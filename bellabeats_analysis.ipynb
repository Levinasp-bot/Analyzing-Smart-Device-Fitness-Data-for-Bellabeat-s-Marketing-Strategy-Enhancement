{
 "cells": [
  {
   "cell_type": "markdown",
   "id": "716c6227-1ae6-40e2-849f-58163ae7199b",
   "metadata": {},
   "source": [
    "1. Apa saja trend penggunaan smart device?\r\n",
    "2. Bagaimana trend ini dapat diterapkan kepada pelanggan Bellabeat?\r\n",
    "3. Bagaimana tren ini dapat membantu mempengaruhi strategi pemasaran Bellabeat?"
   ]
  },
  {
   "cell_type": "code",
   "execution_count": 8,
   "id": "c1c00e2e-2b9f-471b-a0fe-26cc46ad00c9",
   "metadata": {},
   "outputs": [
    {
     "name": "stderr",
     "output_type": "stream",
     "text": [
      "\n",
      "Attaching package: 'lubridate'\n",
      "\n",
      "The following object is masked from 'package:base':\n",
      "\n",
      "    date\n",
      "\n"
     ]
    }
   ],
   "source": [
    "library(tidyverse)\n",
    "library(lubridate)\n",
    "library(dplyr)\n",
    "library(ggplot2)\n",
    "library(tidyr)"
   ]
  },
  {
   "cell_type": "code",
   "execution_count": 9,
   "id": "7fc3d1cb-a7ae-4d26-bb56-c17c7407b592",
   "metadata": {},
   "outputs": [],
   "source": [
    "activity <- read.csv(\"Data/dailyActivity_merged.csv\")\n",
    "sleep <- read.csv(\"Data/sleepDay_merged.csv\")\n",
    "weight <- read.csv(\"Data/weightLogInfo_merged.csv\")"
   ]
  },
  {
   "cell_type": "code",
   "execution_count": 10,
   "id": "e8b226dd-b38b-4f49-ac02-183b5a0e53b1",
   "metadata": {},
   "outputs": [
    {
     "data": {
      "text/html": [
       "<table>\n",
       "<thead><tr><th scope=col>Id</th><th scope=col>ActivityDate</th><th scope=col>TotalSteps</th><th scope=col>TotalDistance</th><th scope=col>TrackerDistance</th><th scope=col>LoggedActivitiesDistance</th><th scope=col>VeryActiveDistance</th><th scope=col>ModeratelyActiveDistance</th><th scope=col>LightActiveDistance</th><th scope=col>SedentaryActiveDistance</th><th scope=col>VeryActiveMinutes</th><th scope=col>FairlyActiveMinutes</th><th scope=col>LightlyActiveMinutes</th><th scope=col>SedentaryMinutes</th><th scope=col>Calories</th></tr></thead>\n",
       "<tbody>\n",
       "\t<tr><td>1503960366</td><td>4/12/2016 </td><td>13162     </td><td>8.50      </td><td>8.50      </td><td>0         </td><td>1.88      </td><td>0.55      </td><td>6.06      </td><td>0         </td><td>25        </td><td>13        </td><td>328       </td><td> 728      </td><td>1985      </td></tr>\n",
       "\t<tr><td>1503960366</td><td>4/13/2016 </td><td>10735     </td><td>6.97      </td><td>6.97      </td><td>0         </td><td>1.57      </td><td>0.69      </td><td>4.71      </td><td>0         </td><td>21        </td><td>19        </td><td>217       </td><td> 776      </td><td>1797      </td></tr>\n",
       "\t<tr><td>1503960366</td><td>4/14/2016 </td><td>10460     </td><td>6.74      </td><td>6.74      </td><td>0         </td><td>2.44      </td><td>0.40      </td><td>3.91      </td><td>0         </td><td>30        </td><td>11        </td><td>181       </td><td>1218      </td><td>1776      </td></tr>\n",
       "\t<tr><td>1503960366</td><td>4/15/2016 </td><td> 9762     </td><td>6.28      </td><td>6.28      </td><td>0         </td><td>2.14      </td><td>1.26      </td><td>2.83      </td><td>0         </td><td>29        </td><td>34        </td><td>209       </td><td> 726      </td><td>1745      </td></tr>\n",
       "\t<tr><td>1503960366</td><td>4/16/2016 </td><td>12669     </td><td>8.16      </td><td>8.16      </td><td>0         </td><td>2.71      </td><td>0.41      </td><td>5.04      </td><td>0         </td><td>36        </td><td>10        </td><td>221       </td><td> 773      </td><td>1863      </td></tr>\n",
       "\t<tr><td>1503960366</td><td>4/17/2016 </td><td> 9705     </td><td>6.48      </td><td>6.48      </td><td>0         </td><td>3.19      </td><td>0.78      </td><td>2.51      </td><td>0         </td><td>38        </td><td>20        </td><td>164       </td><td> 539      </td><td>1728      </td></tr>\n",
       "</tbody>\n",
       "</table>\n"
      ],
      "text/latex": [
       "\\begin{tabular}{r|lllllllllllllll}\n",
       " Id & ActivityDate & TotalSteps & TotalDistance & TrackerDistance & LoggedActivitiesDistance & VeryActiveDistance & ModeratelyActiveDistance & LightActiveDistance & SedentaryActiveDistance & VeryActiveMinutes & FairlyActiveMinutes & LightlyActiveMinutes & SedentaryMinutes & Calories\\\\\n",
       "\\hline\n",
       "\t 1503960366 & 4/12/2016  & 13162      & 8.50       & 8.50       & 0          & 1.88       & 0.55       & 6.06       & 0          & 25         & 13         & 328        &  728       & 1985      \\\\\n",
       "\t 1503960366 & 4/13/2016  & 10735      & 6.97       & 6.97       & 0          & 1.57       & 0.69       & 4.71       & 0          & 21         & 19         & 217        &  776       & 1797      \\\\\n",
       "\t 1503960366 & 4/14/2016  & 10460      & 6.74       & 6.74       & 0          & 2.44       & 0.40       & 3.91       & 0          & 30         & 11         & 181        & 1218       & 1776      \\\\\n",
       "\t 1503960366 & 4/15/2016  &  9762      & 6.28       & 6.28       & 0          & 2.14       & 1.26       & 2.83       & 0          & 29         & 34         & 209        &  726       & 1745      \\\\\n",
       "\t 1503960366 & 4/16/2016  & 12669      & 8.16       & 8.16       & 0          & 2.71       & 0.41       & 5.04       & 0          & 36         & 10         & 221        &  773       & 1863      \\\\\n",
       "\t 1503960366 & 4/17/2016  &  9705      & 6.48       & 6.48       & 0          & 3.19       & 0.78       & 2.51       & 0          & 38         & 20         & 164        &  539       & 1728      \\\\\n",
       "\\end{tabular}\n"
      ],
      "text/markdown": [
       "\n",
       "| Id | ActivityDate | TotalSteps | TotalDistance | TrackerDistance | LoggedActivitiesDistance | VeryActiveDistance | ModeratelyActiveDistance | LightActiveDistance | SedentaryActiveDistance | VeryActiveMinutes | FairlyActiveMinutes | LightlyActiveMinutes | SedentaryMinutes | Calories |\n",
       "|---|---|---|---|---|---|---|---|---|---|---|---|---|---|---|\n",
       "| 1503960366 | 4/12/2016  | 13162      | 8.50       | 8.50       | 0          | 1.88       | 0.55       | 6.06       | 0          | 25         | 13         | 328        |  728       | 1985       |\n",
       "| 1503960366 | 4/13/2016  | 10735      | 6.97       | 6.97       | 0          | 1.57       | 0.69       | 4.71       | 0          | 21         | 19         | 217        |  776       | 1797       |\n",
       "| 1503960366 | 4/14/2016  | 10460      | 6.74       | 6.74       | 0          | 2.44       | 0.40       | 3.91       | 0          | 30         | 11         | 181        | 1218       | 1776       |\n",
       "| 1503960366 | 4/15/2016  |  9762      | 6.28       | 6.28       | 0          | 2.14       | 1.26       | 2.83       | 0          | 29         | 34         | 209        |  726       | 1745       |\n",
       "| 1503960366 | 4/16/2016  | 12669      | 8.16       | 8.16       | 0          | 2.71       | 0.41       | 5.04       | 0          | 36         | 10         | 221        |  773       | 1863       |\n",
       "| 1503960366 | 4/17/2016  |  9705      | 6.48       | 6.48       | 0          | 3.19       | 0.78       | 2.51       | 0          | 38         | 20         | 164        |  539       | 1728       |\n",
       "\n"
      ],
      "text/plain": [
       "  Id         ActivityDate TotalSteps TotalDistance TrackerDistance\n",
       "1 1503960366 4/12/2016    13162      8.50          8.50           \n",
       "2 1503960366 4/13/2016    10735      6.97          6.97           \n",
       "3 1503960366 4/14/2016    10460      6.74          6.74           \n",
       "4 1503960366 4/15/2016     9762      6.28          6.28           \n",
       "5 1503960366 4/16/2016    12669      8.16          8.16           \n",
       "6 1503960366 4/17/2016     9705      6.48          6.48           \n",
       "  LoggedActivitiesDistance VeryActiveDistance ModeratelyActiveDistance\n",
       "1 0                        1.88               0.55                    \n",
       "2 0                        1.57               0.69                    \n",
       "3 0                        2.44               0.40                    \n",
       "4 0                        2.14               1.26                    \n",
       "5 0                        2.71               0.41                    \n",
       "6 0                        3.19               0.78                    \n",
       "  LightActiveDistance SedentaryActiveDistance VeryActiveMinutes\n",
       "1 6.06                0                       25               \n",
       "2 4.71                0                       21               \n",
       "3 3.91                0                       30               \n",
       "4 2.83                0                       29               \n",
       "5 5.04                0                       36               \n",
       "6 2.51                0                       38               \n",
       "  FairlyActiveMinutes LightlyActiveMinutes SedentaryMinutes Calories\n",
       "1 13                  328                   728             1985    \n",
       "2 19                  217                   776             1797    \n",
       "3 11                  181                  1218             1776    \n",
       "4 34                  209                   726             1745    \n",
       "5 10                  221                   773             1863    \n",
       "6 20                  164                   539             1728    "
      ]
     },
     "metadata": {},
     "output_type": "display_data"
    },
    {
     "data": {
      "text/html": [
       "<table>\n",
       "<thead><tr><th scope=col>Id</th><th scope=col>SleepDay</th><th scope=col>TotalSleepRecords</th><th scope=col>TotalMinutesAsleep</th><th scope=col>TotalTimeInBed</th></tr></thead>\n",
       "<tbody>\n",
       "\t<tr><td>1503960366           </td><td>4/12/2016 12:00:00 AM</td><td>1                    </td><td>327                  </td><td>346                  </td></tr>\n",
       "\t<tr><td>1503960366           </td><td>4/13/2016 12:00:00 AM</td><td>2                    </td><td>384                  </td><td>407                  </td></tr>\n",
       "\t<tr><td>1503960366           </td><td>4/15/2016 12:00:00 AM</td><td>1                    </td><td>412                  </td><td>442                  </td></tr>\n",
       "\t<tr><td>1503960366           </td><td>4/16/2016 12:00:00 AM</td><td>2                    </td><td>340                  </td><td>367                  </td></tr>\n",
       "\t<tr><td>1503960366           </td><td>4/17/2016 12:00:00 AM</td><td>1                    </td><td>700                  </td><td>712                  </td></tr>\n",
       "\t<tr><td>1503960366           </td><td>4/19/2016 12:00:00 AM</td><td>1                    </td><td>304                  </td><td>320                  </td></tr>\n",
       "</tbody>\n",
       "</table>\n"
      ],
      "text/latex": [
       "\\begin{tabular}{r|lllll}\n",
       " Id & SleepDay & TotalSleepRecords & TotalMinutesAsleep & TotalTimeInBed\\\\\n",
       "\\hline\n",
       "\t 1503960366            & 4/12/2016 12:00:00 AM & 1                     & 327                   & 346                  \\\\\n",
       "\t 1503960366            & 4/13/2016 12:00:00 AM & 2                     & 384                   & 407                  \\\\\n",
       "\t 1503960366            & 4/15/2016 12:00:00 AM & 1                     & 412                   & 442                  \\\\\n",
       "\t 1503960366            & 4/16/2016 12:00:00 AM & 2                     & 340                   & 367                  \\\\\n",
       "\t 1503960366            & 4/17/2016 12:00:00 AM & 1                     & 700                   & 712                  \\\\\n",
       "\t 1503960366            & 4/19/2016 12:00:00 AM & 1                     & 304                   & 320                  \\\\\n",
       "\\end{tabular}\n"
      ],
      "text/markdown": [
       "\n",
       "| Id | SleepDay | TotalSleepRecords | TotalMinutesAsleep | TotalTimeInBed |\n",
       "|---|---|---|---|---|\n",
       "| 1503960366            | 4/12/2016 12:00:00 AM | 1                     | 327                   | 346                   |\n",
       "| 1503960366            | 4/13/2016 12:00:00 AM | 2                     | 384                   | 407                   |\n",
       "| 1503960366            | 4/15/2016 12:00:00 AM | 1                     | 412                   | 442                   |\n",
       "| 1503960366            | 4/16/2016 12:00:00 AM | 2                     | 340                   | 367                   |\n",
       "| 1503960366            | 4/17/2016 12:00:00 AM | 1                     | 700                   | 712                   |\n",
       "| 1503960366            | 4/19/2016 12:00:00 AM | 1                     | 304                   | 320                   |\n",
       "\n"
      ],
      "text/plain": [
       "  Id         SleepDay              TotalSleepRecords TotalMinutesAsleep\n",
       "1 1503960366 4/12/2016 12:00:00 AM 1                 327               \n",
       "2 1503960366 4/13/2016 12:00:00 AM 2                 384               \n",
       "3 1503960366 4/15/2016 12:00:00 AM 1                 412               \n",
       "4 1503960366 4/16/2016 12:00:00 AM 2                 340               \n",
       "5 1503960366 4/17/2016 12:00:00 AM 1                 700               \n",
       "6 1503960366 4/19/2016 12:00:00 AM 1                 304               \n",
       "  TotalTimeInBed\n",
       "1 346           \n",
       "2 407           \n",
       "3 442           \n",
       "4 367           \n",
       "5 712           \n",
       "6 320           "
      ]
     },
     "metadata": {},
     "output_type": "display_data"
    },
    {
     "data": {
      "text/html": [
       "<table>\n",
       "<thead><tr><th scope=col>Id</th><th scope=col>Date</th><th scope=col>WeightKg</th><th scope=col>WeightPounds</th><th scope=col>Fat</th><th scope=col>BMI</th><th scope=col>IsManualReport</th><th scope=col>LogId</th></tr></thead>\n",
       "<tbody>\n",
       "\t<tr><td>1503960366           </td><td>5/2/2016 11:59:59 PM </td><td> 52.6                </td><td>115.9631             </td><td>22                   </td><td>22.65                </td><td>True                 </td><td>1.462234e+12         </td></tr>\n",
       "\t<tr><td>1503960366           </td><td>5/3/2016 11:59:59 PM </td><td> 52.6                </td><td>115.9631             </td><td>NA                   </td><td>22.65                </td><td>True                 </td><td>1.462320e+12         </td></tr>\n",
       "\t<tr><td>1927972279           </td><td>4/13/2016 1:08:52 AM </td><td>133.5                </td><td>294.3171             </td><td>NA                   </td><td>47.54                </td><td>False                </td><td>1.460510e+12         </td></tr>\n",
       "\t<tr><td>2873212765           </td><td>4/21/2016 11:59:59 PM</td><td> 56.7                </td><td>125.0021             </td><td>NA                   </td><td>21.45                </td><td>True                 </td><td>1.461283e+12         </td></tr>\n",
       "\t<tr><td>2873212765           </td><td>5/12/2016 11:59:59 PM</td><td> 57.3                </td><td>126.3249             </td><td>NA                   </td><td>21.69                </td><td>True                 </td><td>1.463098e+12         </td></tr>\n",
       "\t<tr><td>4319703577           </td><td>4/17/2016 11:59:59 PM</td><td> 72.4                </td><td>159.6147             </td><td>25                   </td><td>27.45                </td><td>True                 </td><td>1.460938e+12         </td></tr>\n",
       "</tbody>\n",
       "</table>\n"
      ],
      "text/latex": [
       "\\begin{tabular}{r|llllllll}\n",
       " Id & Date & WeightKg & WeightPounds & Fat & BMI & IsManualReport & LogId\\\\\n",
       "\\hline\n",
       "\t 1503960366            & 5/2/2016 11:59:59 PM  &  52.6                 & 115.9631              & 22                    & 22.65                 & True                  & 1.462234e+12         \\\\\n",
       "\t 1503960366            & 5/3/2016 11:59:59 PM  &  52.6                 & 115.9631              & NA                    & 22.65                 & True                  & 1.462320e+12         \\\\\n",
       "\t 1927972279            & 4/13/2016 1:08:52 AM  & 133.5                 & 294.3171              & NA                    & 47.54                 & False                 & 1.460510e+12         \\\\\n",
       "\t 2873212765            & 4/21/2016 11:59:59 PM &  56.7                 & 125.0021              & NA                    & 21.45                 & True                  & 1.461283e+12         \\\\\n",
       "\t 2873212765            & 5/12/2016 11:59:59 PM &  57.3                 & 126.3249              & NA                    & 21.69                 & True                  & 1.463098e+12         \\\\\n",
       "\t 4319703577            & 4/17/2016 11:59:59 PM &  72.4                 & 159.6147              & 25                    & 27.45                 & True                  & 1.460938e+12         \\\\\n",
       "\\end{tabular}\n"
      ],
      "text/markdown": [
       "\n",
       "| Id | Date | WeightKg | WeightPounds | Fat | BMI | IsManualReport | LogId |\n",
       "|---|---|---|---|---|---|---|---|\n",
       "| 1503960366            | 5/2/2016 11:59:59 PM  |  52.6                 | 115.9631              | 22                    | 22.65                 | True                  | 1.462234e+12          |\n",
       "| 1503960366            | 5/3/2016 11:59:59 PM  |  52.6                 | 115.9631              | NA                    | 22.65                 | True                  | 1.462320e+12          |\n",
       "| 1927972279            | 4/13/2016 1:08:52 AM  | 133.5                 | 294.3171              | NA                    | 47.54                 | False                 | 1.460510e+12          |\n",
       "| 2873212765            | 4/21/2016 11:59:59 PM |  56.7                 | 125.0021              | NA                    | 21.45                 | True                  | 1.461283e+12          |\n",
       "| 2873212765            | 5/12/2016 11:59:59 PM |  57.3                 | 126.3249              | NA                    | 21.69                 | True                  | 1.463098e+12          |\n",
       "| 4319703577            | 4/17/2016 11:59:59 PM |  72.4                 | 159.6147              | 25                    | 27.45                 | True                  | 1.460938e+12          |\n",
       "\n"
      ],
      "text/plain": [
       "  Id         Date                  WeightKg WeightPounds Fat BMI  \n",
       "1 1503960366 5/2/2016 11:59:59 PM   52.6    115.9631     22  22.65\n",
       "2 1503960366 5/3/2016 11:59:59 PM   52.6    115.9631     NA  22.65\n",
       "3 1927972279 4/13/2016 1:08:52 AM  133.5    294.3171     NA  47.54\n",
       "4 2873212765 4/21/2016 11:59:59 PM  56.7    125.0021     NA  21.45\n",
       "5 2873212765 5/12/2016 11:59:59 PM  57.3    126.3249     NA  21.69\n",
       "6 4319703577 4/17/2016 11:59:59 PM  72.4    159.6147     25  27.45\n",
       "  IsManualReport LogId       \n",
       "1 True           1.462234e+12\n",
       "2 True           1.462320e+12\n",
       "3 False          1.460510e+12\n",
       "4 True           1.461283e+12\n",
       "5 True           1.463098e+12\n",
       "6 True           1.460938e+12"
      ]
     },
     "metadata": {},
     "output_type": "display_data"
    }
   ],
   "source": [
    "head(activity)\n",
    "head(sleep)\n",
    "head(weight)"
   ]
  },
  {
   "cell_type": "code",
   "execution_count": 11,
   "id": "d326701c-e18a-4fbd-9620-bd297a08e207",
   "metadata": {},
   "outputs": [
    {
     "data": {
      "text/html": [
       "<ol class=list-inline>\n",
       "\t<li>'Id'</li>\n",
       "\t<li>'ActivityDate'</li>\n",
       "\t<li>'TotalSteps'</li>\n",
       "\t<li>'TotalDistance'</li>\n",
       "\t<li>'TrackerDistance'</li>\n",
       "\t<li>'LoggedActivitiesDistance'</li>\n",
       "\t<li>'VeryActiveDistance'</li>\n",
       "\t<li>'ModeratelyActiveDistance'</li>\n",
       "\t<li>'LightActiveDistance'</li>\n",
       "\t<li>'SedentaryActiveDistance'</li>\n",
       "\t<li>'VeryActiveMinutes'</li>\n",
       "\t<li>'FairlyActiveMinutes'</li>\n",
       "\t<li>'LightlyActiveMinutes'</li>\n",
       "\t<li>'SedentaryMinutes'</li>\n",
       "\t<li>'Calories'</li>\n",
       "</ol>\n"
      ],
      "text/latex": [
       "\\begin{enumerate*}\n",
       "\\item 'Id'\n",
       "\\item 'ActivityDate'\n",
       "\\item 'TotalSteps'\n",
       "\\item 'TotalDistance'\n",
       "\\item 'TrackerDistance'\n",
       "\\item 'LoggedActivitiesDistance'\n",
       "\\item 'VeryActiveDistance'\n",
       "\\item 'ModeratelyActiveDistance'\n",
       "\\item 'LightActiveDistance'\n",
       "\\item 'SedentaryActiveDistance'\n",
       "\\item 'VeryActiveMinutes'\n",
       "\\item 'FairlyActiveMinutes'\n",
       "\\item 'LightlyActiveMinutes'\n",
       "\\item 'SedentaryMinutes'\n",
       "\\item 'Calories'\n",
       "\\end{enumerate*}\n"
      ],
      "text/markdown": [
       "1. 'Id'\n",
       "2. 'ActivityDate'\n",
       "3. 'TotalSteps'\n",
       "4. 'TotalDistance'\n",
       "5. 'TrackerDistance'\n",
       "6. 'LoggedActivitiesDistance'\n",
       "7. 'VeryActiveDistance'\n",
       "8. 'ModeratelyActiveDistance'\n",
       "9. 'LightActiveDistance'\n",
       "10. 'SedentaryActiveDistance'\n",
       "11. 'VeryActiveMinutes'\n",
       "12. 'FairlyActiveMinutes'\n",
       "13. 'LightlyActiveMinutes'\n",
       "14. 'SedentaryMinutes'\n",
       "15. 'Calories'\n",
       "\n",
       "\n"
      ],
      "text/plain": [
       " [1] \"Id\"                       \"ActivityDate\"            \n",
       " [3] \"TotalSteps\"               \"TotalDistance\"           \n",
       " [5] \"TrackerDistance\"          \"LoggedActivitiesDistance\"\n",
       " [7] \"VeryActiveDistance\"       \"ModeratelyActiveDistance\"\n",
       " [9] \"LightActiveDistance\"      \"SedentaryActiveDistance\" \n",
       "[11] \"VeryActiveMinutes\"        \"FairlyActiveMinutes\"     \n",
       "[13] \"LightlyActiveMinutes\"     \"SedentaryMinutes\"        \n",
       "[15] \"Calories\"                "
      ]
     },
     "metadata": {},
     "output_type": "display_data"
    },
    {
     "data": {
      "text/html": [
       "<ol class=list-inline>\n",
       "\t<li>'Id'</li>\n",
       "\t<li>'SleepDay'</li>\n",
       "\t<li>'TotalSleepRecords'</li>\n",
       "\t<li>'TotalMinutesAsleep'</li>\n",
       "\t<li>'TotalTimeInBed'</li>\n",
       "</ol>\n"
      ],
      "text/latex": [
       "\\begin{enumerate*}\n",
       "\\item 'Id'\n",
       "\\item 'SleepDay'\n",
       "\\item 'TotalSleepRecords'\n",
       "\\item 'TotalMinutesAsleep'\n",
       "\\item 'TotalTimeInBed'\n",
       "\\end{enumerate*}\n"
      ],
      "text/markdown": [
       "1. 'Id'\n",
       "2. 'SleepDay'\n",
       "3. 'TotalSleepRecords'\n",
       "4. 'TotalMinutesAsleep'\n",
       "5. 'TotalTimeInBed'\n",
       "\n",
       "\n"
      ],
      "text/plain": [
       "[1] \"Id\"                 \"SleepDay\"           \"TotalSleepRecords\" \n",
       "[4] \"TotalMinutesAsleep\" \"TotalTimeInBed\"    "
      ]
     },
     "metadata": {},
     "output_type": "display_data"
    },
    {
     "data": {
      "text/html": [
       "<ol class=list-inline>\n",
       "\t<li>'Id'</li>\n",
       "\t<li>'Date'</li>\n",
       "\t<li>'WeightKg'</li>\n",
       "\t<li>'WeightPounds'</li>\n",
       "\t<li>'Fat'</li>\n",
       "\t<li>'BMI'</li>\n",
       "\t<li>'IsManualReport'</li>\n",
       "\t<li>'LogId'</li>\n",
       "</ol>\n"
      ],
      "text/latex": [
       "\\begin{enumerate*}\n",
       "\\item 'Id'\n",
       "\\item 'Date'\n",
       "\\item 'WeightKg'\n",
       "\\item 'WeightPounds'\n",
       "\\item 'Fat'\n",
       "\\item 'BMI'\n",
       "\\item 'IsManualReport'\n",
       "\\item 'LogId'\n",
       "\\end{enumerate*}\n"
      ],
      "text/markdown": [
       "1. 'Id'\n",
       "2. 'Date'\n",
       "3. 'WeightKg'\n",
       "4. 'WeightPounds'\n",
       "5. 'Fat'\n",
       "6. 'BMI'\n",
       "7. 'IsManualReport'\n",
       "8. 'LogId'\n",
       "\n",
       "\n"
      ],
      "text/plain": [
       "[1] \"Id\"             \"Date\"           \"WeightKg\"       \"WeightPounds\"  \n",
       "[5] \"Fat\"            \"BMI\"            \"IsManualReport\" \"LogId\"         "
      ]
     },
     "metadata": {},
     "output_type": "display_data"
    }
   ],
   "source": [
    "colnames(activity)\n",
    "colnames(sleep)\n",
    "colnames(weight)"
   ]
  },
  {
   "cell_type": "code",
   "execution_count": 12,
   "id": "401f41ca-bf93-42e5-8a21-a40f87491f5b",
   "metadata": {},
   "outputs": [
    {
     "data": {
      "text/html": [
       "33"
      ],
      "text/latex": [
       "33"
      ],
      "text/markdown": [
       "33"
      ],
      "text/plain": [
       "[1] 33"
      ]
     },
     "metadata": {},
     "output_type": "display_data"
    },
    {
     "data": {
      "text/html": [
       "24"
      ],
      "text/latex": [
       "24"
      ],
      "text/markdown": [
       "24"
      ],
      "text/plain": [
       "[1] 24"
      ]
     },
     "metadata": {},
     "output_type": "display_data"
    },
    {
     "data": {
      "text/html": [
       "8"
      ],
      "text/latex": [
       "8"
      ],
      "text/markdown": [
       "8"
      ],
      "text/plain": [
       "[1] 8"
      ]
     },
     "metadata": {},
     "output_type": "display_data"
    }
   ],
   "source": [
    "n_distinct(activity$Id)\n",
    "n_distinct(sleep$Id)\n",
    "n_distinct(weight$Id)"
   ]
  },
  {
   "cell_type": "markdown",
   "id": "33885f54-ce52-4067-996f-1a9e26d6de35",
   "metadata": {},
   "source": [
    "The weight data set cannot be used because it only has 8 participants"
   ]
  },
  {
   "cell_type": "code",
   "execution_count": 13,
   "id": "fcd2bbec-1559-4ff9-8f42-42a6b4c62d2e",
   "metadata": {},
   "outputs": [],
   "source": [
    "# Remove unnecessary columns:\n",
    "\n",
    "activity <- activity %>%\n",
    "  select(-c(\"TrackerDistance\" , \"LoggedActivitiesDistance\", \"SedentaryActiveDistance\"))\n",
    "\n",
    "sleep <- sleep %>%\n",
    "  select(-c(\"TotalSleepRecords\"))"
   ]
  },
  {
   "cell_type": "code",
   "execution_count": 14,
   "id": "39a8131b-ccec-4954-bb6e-75428a872fb2",
   "metadata": {},
   "outputs": [],
   "source": [
    "activity <- rename(activity, Date = ActivityDate)\n",
    "sleep <- rename(sleep, Date = SleepDay)"
   ]
  },
  {
   "cell_type": "code",
   "execution_count": 15,
   "id": "f833383b-d87a-4698-844a-198dbd81d239",
   "metadata": {},
   "outputs": [
    {
     "name": "stdout",
     "output_type": "stream",
     "text": [
      "'data.frame':\t940 obs. of  12 variables:\n",
      " $ Id                      : num  1.5e+09 1.5e+09 1.5e+09 1.5e+09 1.5e+09 ...\n",
      " $ Date                    : Factor w/ 31 levels \"4/12/2016\",\"4/13/2016\",..: 1 2 3 4 5 6 7 8 9 10 ...\n",
      " $ TotalSteps              : int  13162 10735 10460 9762 12669 9705 13019 15506 10544 9819 ...\n",
      " $ TotalDistance           : num  8.5 6.97 6.74 6.28 8.16 ...\n",
      " $ VeryActiveDistance      : num  1.88 1.57 2.44 2.14 2.71 ...\n",
      " $ ModeratelyActiveDistance: num  0.55 0.69 0.4 1.26 0.41 ...\n",
      " $ LightActiveDistance     : num  6.06 4.71 3.91 2.83 5.04 ...\n",
      " $ VeryActiveMinutes       : int  25 21 30 29 36 38 42 50 28 19 ...\n",
      " $ FairlyActiveMinutes     : int  13 19 11 34 10 20 16 31 12 8 ...\n",
      " $ LightlyActiveMinutes    : int  328 217 181 209 221 164 233 264 205 211 ...\n",
      " $ SedentaryMinutes        : int  728 776 1218 726 773 539 1149 775 818 838 ...\n",
      " $ Calories                : int  1985 1797 1776 1745 1863 1728 1921 2035 1786 1775 ...\n",
      "'data.frame':\t413 obs. of  4 variables:\n",
      " $ Id                : num  1.5e+09 1.5e+09 1.5e+09 1.5e+09 1.5e+09 ...\n",
      " $ Date              : Factor w/ 31 levels \"4/12/2016 12:00:00 AM\",..: 1 2 4 5 6 8 9 10 12 13 ...\n",
      " $ TotalMinutesAsleep: int  327 384 412 340 700 304 360 325 361 430 ...\n",
      " $ TotalTimeInBed    : int  346 407 442 367 712 320 377 364 384 449 ...\n"
     ]
    }
   ],
   "source": [
    "# Check the data types in the datasets: \n",
    "\n",
    "str(activity)\n",
    "str(sleep)"
   ]
  },
  {
   "cell_type": "code",
   "execution_count": 16,
   "id": "2d2541d8-fbf6-487f-aaa8-27c365fa89db",
   "metadata": {},
   "outputs": [],
   "source": [
    "# Change the data type in the \"Date\" columns in our datasets: \n",
    "\n",
    "activity$Date=as.Date(activity$Date, format=\"%m/%d/%y\")\n",
    "sleep$Date=as.Date(sleep$Date, format=\"%m/%d/%y\")"
   ]
  },
  {
   "cell_type": "code",
   "execution_count": 17,
   "id": "d9e81b53-4da0-4178-bc6b-12b5d99c00f1",
   "metadata": {},
   "outputs": [
    {
     "data": {
      "text/html": [
       "940"
      ],
      "text/latex": [
       "940"
      ],
      "text/markdown": [
       "940"
      ],
      "text/plain": [
       "[1] 940"
      ]
     },
     "metadata": {},
     "output_type": "display_data"
    },
    {
     "data": {
      "text/html": [
       "413"
      ],
      "text/latex": [
       "413"
      ],
      "text/markdown": [
       "413"
      ],
      "text/plain": [
       "[1] 413"
      ]
     },
     "metadata": {},
     "output_type": "display_data"
    }
   ],
   "source": [
    "# Check the number of observations in the datasets:\n",
    "\n",
    "nrow(activity)\n",
    "nrow(sleep)"
   ]
  },
  {
   "cell_type": "code",
   "execution_count": 18,
   "id": "088c4a09-e3c8-4bd3-9908-4cb1e5ef3a40",
   "metadata": {},
   "outputs": [
    {
     "data": {
      "text/html": [
       "0"
      ],
      "text/latex": [
       "0"
      ],
      "text/markdown": [
       "0"
      ],
      "text/plain": [
       "[1] 0"
      ]
     },
     "metadata": {},
     "output_type": "display_data"
    },
    {
     "data": {
      "text/html": [
       "3"
      ],
      "text/latex": [
       "3"
      ],
      "text/markdown": [
       "3"
      ],
      "text/plain": [
       "[1] 3"
      ]
     },
     "metadata": {},
     "output_type": "display_data"
    }
   ],
   "source": [
    "# Check the duplicated rows in the datasets:\n",
    "\n",
    "nrow(activity[duplicated(activity), ])\n",
    "nrow(sleep[duplicated(sleep), ])"
   ]
  },
  {
   "cell_type": "code",
   "execution_count": 19,
   "id": "63505d6f-4398-44e5-8242-523311f60563",
   "metadata": {},
   "outputs": [],
   "source": [
    "# Remove duplicate rows in the dataset 'sleep':\n",
    "\n",
    "sleep <- sleep %>% distinct()"
   ]
  },
  {
   "cell_type": "code",
   "execution_count": 20,
   "id": "81e10f88-7c51-46ef-80d0-01f4a6b779dd",
   "metadata": {},
   "outputs": [
    {
     "data": {
      "text/html": [
       "410"
      ],
      "text/latex": [
       "410"
      ],
      "text/markdown": [
       "410"
      ],
      "text/plain": [
       "[1] 410"
      ]
     },
     "metadata": {},
     "output_type": "display_data"
    }
   ],
   "source": [
    "# Check the result:\n",
    "\n",
    "nrow(sleep)"
   ]
  },
  {
   "cell_type": "code",
   "execution_count": 21,
   "id": "902387ec-c731-4ede-b6c4-af82f35020d0",
   "metadata": {},
   "outputs": [],
   "source": [
    "# Merge the datasets:\n",
    "\n",
    "merged_data <- merge(sleep, activity, by=c('Id', 'Date'))"
   ]
  },
  {
   "cell_type": "code",
   "execution_count": 22,
   "id": "fc37e53a-d72a-44a9-abe6-a8be5069460d",
   "metadata": {},
   "outputs": [
    {
     "data": {
      "text/html": [
       "<table>\n",
       "<thead><tr><th scope=col>Id</th><th scope=col>Date</th><th scope=col>TotalMinutesAsleep</th><th scope=col>TotalTimeInBed</th><th scope=col>TotalSteps</th><th scope=col>TotalDistance</th><th scope=col>VeryActiveDistance</th><th scope=col>ModeratelyActiveDistance</th><th scope=col>LightActiveDistance</th><th scope=col>VeryActiveMinutes</th><th scope=col>FairlyActiveMinutes</th><th scope=col>LightlyActiveMinutes</th><th scope=col>SedentaryMinutes</th><th scope=col>Calories</th></tr></thead>\n",
       "<tbody>\n",
       "\t<tr><td>1503960366</td><td>2020-04-12</td><td>327       </td><td>346       </td><td>13162     </td><td>8.50      </td><td>1.88      </td><td>0.55      </td><td>6.06      </td><td>25        </td><td>13        </td><td>328       </td><td>728       </td><td>1985      </td></tr>\n",
       "\t<tr><td>1503960366</td><td>2020-04-13</td><td>384       </td><td>407       </td><td>10735     </td><td>6.97      </td><td>1.57      </td><td>0.69      </td><td>4.71      </td><td>21        </td><td>19        </td><td>217       </td><td>776       </td><td>1797      </td></tr>\n",
       "\t<tr><td>1503960366</td><td>2020-04-15</td><td>412       </td><td>442       </td><td> 9762     </td><td>6.28      </td><td>2.14      </td><td>1.26      </td><td>2.83      </td><td>29        </td><td>34        </td><td>209       </td><td>726       </td><td>1745      </td></tr>\n",
       "\t<tr><td>1503960366</td><td>2020-04-16</td><td>340       </td><td>367       </td><td>12669     </td><td>8.16      </td><td>2.71      </td><td>0.41      </td><td>5.04      </td><td>36        </td><td>10        </td><td>221       </td><td>773       </td><td>1863      </td></tr>\n",
       "\t<tr><td>1503960366</td><td>2020-04-17</td><td>700       </td><td>712       </td><td> 9705     </td><td>6.48      </td><td>3.19      </td><td>0.78      </td><td>2.51      </td><td>38        </td><td>20        </td><td>164       </td><td>539       </td><td>1728      </td></tr>\n",
       "\t<tr><td>1503960366</td><td>2020-04-19</td><td>304       </td><td>320       </td><td>15506     </td><td>9.88      </td><td>3.53      </td><td>1.32      </td><td>5.03      </td><td>50        </td><td>31        </td><td>264       </td><td>775       </td><td>2035      </td></tr>\n",
       "</tbody>\n",
       "</table>\n"
      ],
      "text/latex": [
       "\\begin{tabular}{r|llllllllllllll}\n",
       " Id & Date & TotalMinutesAsleep & TotalTimeInBed & TotalSteps & TotalDistance & VeryActiveDistance & ModeratelyActiveDistance & LightActiveDistance & VeryActiveMinutes & FairlyActiveMinutes & LightlyActiveMinutes & SedentaryMinutes & Calories\\\\\n",
       "\\hline\n",
       "\t 1503960366 & 2020-04-12 & 327        & 346        & 13162      & 8.50       & 1.88       & 0.55       & 6.06       & 25         & 13         & 328        & 728        & 1985      \\\\\n",
       "\t 1503960366 & 2020-04-13 & 384        & 407        & 10735      & 6.97       & 1.57       & 0.69       & 4.71       & 21         & 19         & 217        & 776        & 1797      \\\\\n",
       "\t 1503960366 & 2020-04-15 & 412        & 442        &  9762      & 6.28       & 2.14       & 1.26       & 2.83       & 29         & 34         & 209        & 726        & 1745      \\\\\n",
       "\t 1503960366 & 2020-04-16 & 340        & 367        & 12669      & 8.16       & 2.71       & 0.41       & 5.04       & 36         & 10         & 221        & 773        & 1863      \\\\\n",
       "\t 1503960366 & 2020-04-17 & 700        & 712        &  9705      & 6.48       & 3.19       & 0.78       & 2.51       & 38         & 20         & 164        & 539        & 1728      \\\\\n",
       "\t 1503960366 & 2020-04-19 & 304        & 320        & 15506      & 9.88       & 3.53       & 1.32       & 5.03       & 50         & 31         & 264        & 775        & 2035      \\\\\n",
       "\\end{tabular}\n"
      ],
      "text/markdown": [
       "\n",
       "| Id | Date | TotalMinutesAsleep | TotalTimeInBed | TotalSteps | TotalDistance | VeryActiveDistance | ModeratelyActiveDistance | LightActiveDistance | VeryActiveMinutes | FairlyActiveMinutes | LightlyActiveMinutes | SedentaryMinutes | Calories |\n",
       "|---|---|---|---|---|---|---|---|---|---|---|---|---|---|\n",
       "| 1503960366 | 2020-04-12 | 327        | 346        | 13162      | 8.50       | 1.88       | 0.55       | 6.06       | 25         | 13         | 328        | 728        | 1985       |\n",
       "| 1503960366 | 2020-04-13 | 384        | 407        | 10735      | 6.97       | 1.57       | 0.69       | 4.71       | 21         | 19         | 217        | 776        | 1797       |\n",
       "| 1503960366 | 2020-04-15 | 412        | 442        |  9762      | 6.28       | 2.14       | 1.26       | 2.83       | 29         | 34         | 209        | 726        | 1745       |\n",
       "| 1503960366 | 2020-04-16 | 340        | 367        | 12669      | 8.16       | 2.71       | 0.41       | 5.04       | 36         | 10         | 221        | 773        | 1863       |\n",
       "| 1503960366 | 2020-04-17 | 700        | 712        |  9705      | 6.48       | 3.19       | 0.78       | 2.51       | 38         | 20         | 164        | 539        | 1728       |\n",
       "| 1503960366 | 2020-04-19 | 304        | 320        | 15506      | 9.88       | 3.53       | 1.32       | 5.03       | 50         | 31         | 264        | 775        | 2035       |\n",
       "\n"
      ],
      "text/plain": [
       "  Id         Date       TotalMinutesAsleep TotalTimeInBed TotalSteps\n",
       "1 1503960366 2020-04-12 327                346            13162     \n",
       "2 1503960366 2020-04-13 384                407            10735     \n",
       "3 1503960366 2020-04-15 412                442             9762     \n",
       "4 1503960366 2020-04-16 340                367            12669     \n",
       "5 1503960366 2020-04-17 700                712             9705     \n",
       "6 1503960366 2020-04-19 304                320            15506     \n",
       "  TotalDistance VeryActiveDistance ModeratelyActiveDistance LightActiveDistance\n",
       "1 8.50          1.88               0.55                     6.06               \n",
       "2 6.97          1.57               0.69                     4.71               \n",
       "3 6.28          2.14               1.26                     2.83               \n",
       "4 8.16          2.71               0.41                     5.04               \n",
       "5 6.48          3.19               0.78                     2.51               \n",
       "6 9.88          3.53               1.32                     5.03               \n",
       "  VeryActiveMinutes FairlyActiveMinutes LightlyActiveMinutes SedentaryMinutes\n",
       "1 25                13                  328                  728             \n",
       "2 21                19                  217                  776             \n",
       "3 29                34                  209                  726             \n",
       "4 36                10                  221                  773             \n",
       "5 38                20                  164                  539             \n",
       "6 50                31                  264                  775             \n",
       "  Calories\n",
       "1 1985    \n",
       "2 1797    \n",
       "3 1745    \n",
       "4 1863    \n",
       "5 1728    \n",
       "6 2035    "
      ]
     },
     "metadata": {},
     "output_type": "display_data"
    }
   ],
   "source": [
    "# Observe the first rows of the merged data:\n",
    "\n",
    "head(merged_data)"
   ]
  },
  {
   "cell_type": "code",
   "execution_count": 23,
   "id": "18fb950d-1f08-4da5-bfa7-45cb5d819e77",
   "metadata": {},
   "outputs": [
    {
     "data": {
      "image/png": "[encoded data removed]",
      "text/plain": [
       "Plot with title \"Histogram of merged_data$TotalSteps\""
      ]
     },
     "metadata": {},
     "output_type": "display_data"
    },
    {
     "data": {
      "image/png": "[encoded data removed]",
      "text/plain": [
       "Plot with title \"Histogram of merged_data$VeryActiveMinutes\""
      ]
     },
     "metadata": {},
     "output_type": "display_data"
    },
    {
     "data": {
      "image/png": "[encoded data removed]",
      "text/plain": [
       "Plot with title \"Histogram of merged_data$SedentaryMinutes\""
      ]
     },
     "metadata": {},
     "output_type": "display_data"
    },
    {
     "data": {
      "image/png": "[encoded data removed]",
      "text/plain": [
       "Plot with title \"Histogram of merged_data$Calories\""
      ]
     },
     "metadata": {},
     "output_type": "display_data"
    }
   ],
   "source": [
    "# Observe some general trends in the data:\n",
    "\n",
    "hist(merged_data$TotalSteps)\n",
    "hist(merged_data$VeryActiveMinutes)\n",
    "hist(merged_data$SedentaryMinutes)\n",
    "hist(merged_data$Calories)"
   ]
  },
  {
   "cell_type": "code",
   "execution_count": 24,
   "id": "7c503955-e3b0-4223-bbca-d4ec854c2ee0",
   "metadata": {},
   "outputs": [
    {
     "data": {
      "text/plain": [
       "   TotalSteps    TotalDistance    VeryActiveDistance ModeratelyActiveDistance\n",
       " Min.   :   17   Min.   : 0.010   Min.   : 0.000     Min.   :0.0000          \n",
       " 1st Qu.: 5189   1st Qu.: 3.592   1st Qu.: 0.000     1st Qu.:0.0000          \n",
       " Median : 8913   Median : 6.270   Median : 0.570     Median :0.4200          \n",
       " Mean   : 8515   Mean   : 6.012   Mean   : 1.446     Mean   :0.7439          \n",
       " 3rd Qu.:11370   3rd Qu.: 8.005   3rd Qu.: 2.360     3rd Qu.:1.0375          \n",
       " Max.   :22770   Max.   :17.540   Max.   :12.540     Max.   :6.4800          \n",
       " LightActiveDistance\n",
       " Min.   :0.010      \n",
       " 1st Qu.:2.540      \n",
       " Median :3.665      \n",
       " Mean   :3.791      \n",
       " 3rd Qu.:4.918      \n",
       " Max.   :9.480      "
      ]
     },
     "metadata": {},
     "output_type": "display_data"
    },
    {
     "data": {
      "text/plain": [
       " VeryActiveMinutes FairlyActiveMinutes LightlyActiveMinutes SedentaryMinutes\n",
       " Min.   :  0.00    Min.   :  0.00      Min.   :  2.0        Min.   :   0.0  \n",
       " 1st Qu.:  0.00    1st Qu.:  0.00      1st Qu.:158.0        1st Qu.: 631.2  \n",
       " Median :  9.00    Median : 11.00      Median :208.0        Median : 717.0  \n",
       " Mean   : 25.05    Mean   : 17.92      Mean   :216.5        Mean   : 712.1  \n",
       " 3rd Qu.: 38.00    3rd Qu.: 26.75      3rd Qu.:263.0        3rd Qu.: 782.8  \n",
       " Max.   :210.00    Max.   :143.00      Max.   :518.0        Max.   :1265.0  \n",
       "    Calories   \n",
       " Min.   : 257  \n",
       " 1st Qu.:1841  \n",
       " Median :2207  \n",
       " Mean   :2389  \n",
       " 3rd Qu.:2920  \n",
       " Max.   :4900  "
      ]
     },
     "metadata": {},
     "output_type": "display_data"
    },
    {
     "data": {
      "text/plain": [
       " TotalMinutesAsleep TotalTimeInBed \n",
       " Min.   : 58.0      Min.   : 61.0  \n",
       " 1st Qu.:361.0      1st Qu.:403.8  \n",
       " Median :432.5      Median :463.0  \n",
       " Mean   :419.2      Mean   :458.5  \n",
       " 3rd Qu.:490.0      3rd Qu.:526.0  \n",
       " Max.   :796.0      Max.   :961.0  "
      ]
     },
     "metadata": {},
     "output_type": "display_data"
    }
   ],
   "source": [
    "# Check the statistical summary:\n",
    "\n",
    "merged_data %>%\n",
    "  select(TotalSteps, TotalDistance, VeryActiveDistance, ModeratelyActiveDistance, \n",
    "         LightActiveDistance) %>%\n",
    "  summary()\n",
    "\n",
    "merged_data %>%\n",
    "  select(VeryActiveMinutes, FairlyActiveMinutes, LightlyActiveMinutes, \n",
    "         SedentaryMinutes, Calories) %>%\n",
    "  summary()\n",
    "\n",
    "merged_data %>%\n",
    "  select(TotalMinutesAsleep, TotalTimeInBed) %>%\n",
    "  summary()"
   ]
  },
  {
   "cell_type": "markdown",
   "id": "f809ecab-8109-470e-8f00-9fa581fe25c3",
   "metadata": {},
   "source": [
    "Observation:\n",
    "- \r\n",
    "Rata-rata menit duduk adalah 955,2 menit atau 16 jam- .\r\n",
    "Rata-rata menit sangat aktif dan menit cukup aktif masing-masing sebesar 23,04 menit dan 14,79 meni- t.\r\n",
    "Rata-rata menit aktif ringan berada pada 210,3 menit atau 3,5 j- am.\r\n",
    "Rata-rata jumlah kalori yang terbakar per hari adalah sekitar 2362 kkal.\r\n",
    "Kesimu- Sebagian besar pesertaan besar tidak aktif sepanjan- g hari.\r\n",
    "Peserta menghabiskan sedikit waktu untuk bero- Kecil kemungkinan peserta untukak mungkin mengambil bagian dalam kegiatan yang berat."
   ]
  },
  {
   "cell_type": "code",
   "execution_count": 25,
   "id": "c5223510-4eb5-4866-99f3-9a8a26ef378c",
   "metadata": {},
   "outputs": [
    {
     "name": "stderr",
     "output_type": "stream",
     "text": [
      "`geom_smooth()` using method = 'loess' and formula 'y ~ x'\n"
     ]
    },
    {
     "data": {
      "image/png": "[encoded data removed]",
      "text/plain": [
       "plot without title"
      ]
     },
     "metadata": {},
     "output_type": "display_data"
    }
   ],
   "source": [
    "ggplot(data=activity, aes(x=TotalSteps, y=Calories)) + \n",
    "  geom_point() + geom_smooth() + labs(title=\"Total Steps vs. Calories\")"
   ]
  },
  {
   "cell_type": "markdown",
   "id": "aede8ad7-282e-4d5c-ae77-0efff8706c4c",
   "metadata": {},
   "source": [
    "Ada korelasi positif antara Jumlah Langkah dan Kalori, semakin aktif peserta, semakin banyak kalori yang terbakar."
   ]
  },
  {
   "cell_type": "code",
   "execution_count": 26,
   "id": "85459b80-55c7-467d-84d2-029bffd9d03c",
   "metadata": {},
   "outputs": [
    {
     "data": {
      "image/png": "[encoded data removed]",
      "text/plain": [
       "plot without title"
      ]
     },
     "metadata": {},
     "output_type": "display_data"
    }
   ],
   "source": [
    "ggplot(data=sleep, aes(x=TotalMinutesAsleep, y=TotalTimeInBed)) + \n",
    "  geom_point()+ labs(title=\"Total Minutes Asleep vs. Total Time in Bed\")"
   ]
  },
  {
   "cell_type": "markdown",
   "id": "2f393718-f691-4914-bfad-95166a6f772b",
   "metadata": {},
   "source": [
    "Hubungan Total Menit Tidur dengan Total Waktu di Tempat Tidur terlihat linear. Jadi jika pengguna Bellabeat ingin meningkatkan kualitas tidurnya, mereka harus mempertimbangkan untuk menggunakan notifikasi untuk tidur."
   ]
  },
  {
   "cell_type": "code",
   "execution_count": 27,
   "id": "9d75770c-968e-4fb2-86bb-e172bec445d1",
   "metadata": {
    "scrolled": true
   },
   "outputs": [
    {
     "name": "stderr",
     "output_type": "stream",
     "text": [
      "`geom_smooth()` using method = 'loess' and formula 'y ~ x'\n"
     ]
    },
    {
     "data": {
      "image/png": "[encoded data removed]",
      "text/plain": [
       "plot without title"
      ]
     },
     "metadata": {},
     "output_type": "display_data"
    }
   ],
   "source": [
    "ggplot(data=merged_data, aes(x=TotalMinutesAsleep, y=SedentaryMinutes)) + \n",
    "geom_point(color='darkblue') + geom_smooth() +\n",
    "  labs(title=\"Minutes Asleep vs. Sedentary Minutes\")"
   ]
  },
  {
   "cell_type": "markdown",
   "id": "e2faa3f9-1516-4586-879e-711c64650410",
   "metadata": {},
   "source": [
    "Di sini kita dapat melihat dengan jelas hubungan negatif antara Menit Sedentary dan Waktu Tidur.\n",
    "Sebagai gambaran: jika pengguna Bellabeat ingin meningkatkan kualitas tidurnya, aplikasi Bellabeat dapat merekomendasikan pengurangan waktu duduk."
   ]
  },
  {
   "cell_type": "markdown",
   "id": "8b68745b-ab02-404c-a996-b4c901ac1108",
   "metadata": {},
   "source": [
    "## Recomendations\n",
    "Rata-rata total langkah per hari adalah 7638 langkah yang sedikit lebih sedikit karena memberikan manfaat kesehatan menurut penelitian CDC. Mereka menemukan bahwa mengambil 8.000 langkah per hari dikaitkan dengan risiko 51% lebih rendah terhadap semua penyebab kematian (atau kematian karena semua penyebab). Mengambil 12.000 langkah per hari dikaitkan dengan risiko 65% lebih rendah dibandingkan dengan mengambil 4.000 langkah. Bellabeat dapat mendorong orang untuk mengonsumsi setidaknya 8.000 dengan menjelaskan manfaatnya bagi kesehatan mereka.\r\n",
    "\r\n",
    "Jika pengguna ingin menurunkan berat badan, mungkin ada baiknya untuk mengontrol konsumsi kalori harian. Bellabeat dapat menyarankan beberapa ide untuk makan siang dan makan malam rendah kalori.\r\n",
    "\r\n",
    "Jika pengguna ingin meningkatkan kualitas tidurnya, Bellabeat harus mempertimbangkan untuk menggunakan notifikasi aplikasi untuk tidur.\r\n",
    "\r\n",
    "Sebagai gambaran: jika pengguna ingin meningkatkan kualitas tidurnya, aplikasi Bellabeat dapat merekomendasikan pengurangan waktu duduk."
   ]
  }
 ],
 "metadata": {
  "kernelspec": {
   "display_name": "R",
   "language": "R",
   "name": "ir"
  },
  "language_info": {
   "codemirror_mode": "r",
   "file_extension": ".r",
   "mimetype": "text/x-r-source",
   "name": "R",
   "pygments_lexer": "r",
   "version": "3.6.1"
  }
 },
 "nbformat": 4,
 "nbformat_minor": 5
}
